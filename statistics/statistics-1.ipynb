{
 "cells": [
  {
   "cell_type": "code",
   "execution_count": 8,
   "metadata": {
    "slideshow": {
     "slide_type": "skip"
    }
   },
   "outputs": [
    {
     "data": {
      "text/html": [
       "<link rel=\"stylesheet\" type=\"text/css\" href=\"../css/custom.css\">\n"
      ],
      "text/plain": [
       "<IPython.core.display.HTML object>"
      ]
     },
     "metadata": {},
     "output_type": "display_data"
    }
   ],
   "source": [
    "%%HTML\n",
    "<link rel=\"stylesheet\" type=\"text/css\" href=\"../css/custom.css\">"
   ]
  },
  {
   "cell_type": "markdown",
   "metadata": {
    "slideshow": {
     "slide_type": "slide"
    }
   },
   "source": [
    "# ﾁｮｯﾄﾃﾞｷﾙ統計学"
   ]
  },
  {
   "cell_type": "markdown",
   "metadata": {
    "slideshow": {
     "slide_type": "slide"
    }
   },
   "source": [
    "### ﾁｮｯﾄﾃﾞｷﾙ統計学とは？\n",
    "- 統計学の世界を少しだけ覗いてみるという趣旨の勉強会です。\n",
    "- 基本的なデータの要約方法、可視化、(ﾁｮｯﾄﾀﾞｹ確率)、 ﾁｮｯﾄｼﾀ分析について説明します。\n",
    "- ~お給料を上げたい一心で~ 頑張ります。"
   ]
  },
  {
   "cell_type": "markdown",
   "metadata": {
    "slideshow": {
     "slide_type": "slide"
    }
   },
   "source": [
    "### 始める前に\n",
    "* この資料はGitHubで公開しているので、お手元の環境で試せます。 ⭐️ つけてくれてもいいです。 \n",
    "* リポジトリ: `git@github.com:Soichiro-Fujioka/chotto-dekiru-DS.git`\n",
    "* 実行環境は `python3 + juputer (lab)` ですが、環境構築しなくても `Google Colaboratory` でWEB上でも実行できます。\n",
    "* スライドで見たい場合は `RISE` モジュールのインストールと `jupyter (not lab)` をご使用ください。\n",
    "* モジュールは `!pip install pandas` とかでノートブック上でインストール可能です。"
   ]
  },
  {
   "cell_type": "markdown",
   "metadata": {
    "slideshow": {
     "slide_type": "slide"
    }
   },
   "source": [
    "### まずは必要そうな(!)モジュールをインポート"
   ]
  },
  {
   "cell_type": "code",
   "execution_count": null,
   "metadata": {
    "slideshow": {
     "slide_type": "-"
    }
   },
   "outputs": [],
   "source": [
    "import pandas as pd   # データを扱うライブラリ\n",
    "import numpy as np   # 言わずと知れた数値計算ライブラリ\n",
    "import matplotlib.pyplot as plt # 可視化ライブラリ\n",
    "import seaborn as sns # イケてる可視化ライブラリ\n",
    "import statsmodels # 統計手法ライブラリ (scikit-learnは機械学習編で使います)\n",
    "plt.xkcd() # お気に入り可視化テーマ"
   ]
  },
  {
   "cell_type": "markdown",
   "metadata": {
    "slideshow": {
     "slide_type": "slide"
    }
   },
   "source": [
    "### データセットのロード\n",
    "今回はボストン市の住宅価格のデータを使います。  \n",
    "他にはアヤメ(`iris`)の分類データや、タイタニックの生存データがチュートリアルでよく使われます。"
   ]
  },
  {
   "cell_type": "code",
   "execution_count": null,
   "metadata": {},
   "outputs": [],
   "source": [
    "from sklearn.datasets import load_boston\n",
    "boston = load_boston() # データのロード\n",
    "boston_y = pd.DataFrame(boston.target, columns=['PRICE']) # 価格データ\n",
    "boston_X = pd.DataFrame(boston.data, columns=boston.feature_names) # 価格以外のデータ\n",
    "boston = pd.concat([boston_y, boston_X], axis=1) # 上二つをがっちゃんこ"
   ]
  },
  {
   "cell_type": "code",
   "execution_count": null,
   "metadata": {},
   "outputs": [],
   "source": [
    "boston.head() # とりあえず最初の5行だけ見てみる"
   ]
  },
  {
   "cell_type": "code",
   "execution_count": null,
   "metadata": {},
   "outputs": [],
   "source": [
    "print('行数: {}   列数: {}'.format(boston.shape[0], boston.shape[1]))"
   ]
  },
  {
   "cell_type": "markdown",
   "metadata": {
    "slideshow": {
     "slide_type": "slide"
    }
   },
   "source": [
    "| 変数名 | 説明 |\n",
    "| --- | --- |\n",
    "| PRICE | 1,000 ドル台でオーナーが所有する住宅の価格の中央値 単位: 1,000(USD) |\n",
    "| CRIM | 人口 1 人当たりの犯罪発生数 |\n",
    "| ZN | 25,000 平方フィート以上の住居区画の占める割合 |\n",
    "| INDUS | 小売業以外の商業が占める面積の割合 |\n",
    "| CHAS | チャールズ川によるダミー変数 (1: 川の周辺, 0: それ以外) |\n",
    "| NOX | NOx の濃度 |\n",
    "| RM | 住居の平均部屋数 |\n",
    "| AGE | 1940 年より前に建てられた物件の割合 |\n",
    "| DIS | 5 つのボストン市の雇用施設からの距離 (重み付け済) |\n",
    "| RAD | 環状高速道路へのアクセスしやすさ |\n",
    "| TAX | $10,000 ドルあたりの不動産税率の総計 |\n",
    "| PTRATIO | 町毎の児童と教師の比率 |\n",
    "| B\t| 町毎の黒人 (Bk) の比率を次の式で表したもの。 1000(Bk – 0.63)^2 |\n",
    "| LSTAT\t| 給与の低い職業に従事する人口の割合 (%) |\n",
    "\n",
    "ref: [scikit-learn に付属しているデータセット](https://pythondatascience.plavox.info/scikit-learn/scikit-learn%E3%81%AB%E4%BB%98%E5%B1%9E%E3%81%97%E3%81%A6%E3%81%84%E3%82%8B%E3%83%87%E3%83%BC%E3%82%BF%E3%82%BB%E3%83%83%E3%83%88)"
   ]
  },
  {
   "cell_type": "markdown",
   "metadata": {
    "slideshow": {
     "slide_type": "slide"
    }
   },
   "source": [
    "### それでは本題"
   ]
  },
  {
   "cell_type": "markdown",
   "metadata": {
    "slideshow": {
     "slide_type": "slide"
    }
   },
   "source": [
    "### 統計学って何？"
   ]
  },
  {
   "cell_type": "markdown",
   "metadata": {
    "slideshow": {
     "slide_type": "slide"
    }
   },
   "source": [
    "統計学とは、 `確率論` を拠所として、\n",
    "- ①データの特徴を記述したり -> 平均、分散\n",
    "- ②一部のデータから全体を推測したり -> 区間推定、仮説検定\n",
    "- ③出来事の要因を明らかにしたり -> 回帰分析(AI❗️)、時系列解析\n",
    "\n",
    "する学問"
   ]
  },
  {
   "cell_type": "markdown",
   "metadata": {
    "slideshow": {
     "slide_type": "slide"
    }
   },
   "source": [
    "### ①データの特徴を記述"
   ]
  },
  {
   "cell_type": "markdown",
   "metadata": {
    "slideshow": {
     "slide_type": "slide"
    }
   },
   "source": [
    "### まずはお馴染みの平均\n",
    "$$\n",
    "mean(x) = \\bar{x} = \\frac{1}{N}(x_1 + x_2 + \\cdots + x_N)\n",
    "$$"
   ]
  },
  {
   "cell_type": "code",
   "execution_count": null,
   "metadata": {},
   "outputs": [],
   "source": [
    "boston['PRICE'].mean() # or np.mean(boston['PRICE'])"
   ]
  },
  {
   "cell_type": "markdown",
   "metadata": {},
   "source": [
    " - 平均値は、データの代表値を表すもっとも手軽な方法ですが、データが偏っている場合は、注意が必要\n",
    " - 一般的に使われるのは算術平均ですが、他にも加重平均、幾何平均、調和平均など色々な種類があります"
   ]
  },
  {
   "cell_type": "markdown",
   "metadata": {
    "slideshow": {
     "slide_type": "slide"
    }
   },
   "source": [
    "### どんな時に注意が必要？\n",
    "- 分布が左右対象ではない場合、平均値は引っ張られる\n",
    "- 平均以外にも中央値、最頻値も利用する\n",
    "- 実際のデータの形(分布)を見てみることが**超大事**❗️"
   ]
  },
  {
   "cell_type": "code",
   "execution_count": null,
   "metadata": {
    "scrolled": false
   },
   "outputs": [],
   "source": [
    "fig, (ax1, ax2) = plt.subplots(1, 2, sharey=False, figsize = (10,5)) # 複数グラフの表示設定\n",
    "sns.distplot(boston.RM, ax=ax1, axlabel='') \n",
    "ax1.set_title('Histogram RM')\n",
    "ax1.axvline(boston.RM.mean(), 0, 1, color='red') #平均の垂直線を追加\n",
    "sns.distplot(boston.LSTAT, ax=ax2, axlabel='')\n",
    "ax2.set_title('Histogram LSTAT')\n",
    "ax2.axvline(boston.LSTAT.mean(), 0, 1, color='red') #平均の垂直線を追加\n",
    "plt.tight_layout() # グラフが重ならないようにする\n",
    "plt.show()"
   ]
  },
  {
   "cell_type": "markdown",
   "metadata": {
    "slideshow": {
     "slide_type": "slide"
    }
   },
   "source": [
    "### 平均値がダメなら中央値\n",
    "$$\n",
    "median(x) = x_{median} =\n",
    "\\begin{cases}\n",
    " x_{(N + 1)/2}                                  & \\text{if } N \\text{ が奇数.} \\\\\n",
    " \\dfrac{1}{2}( x_{N/2} + x_{N/2 + 1}) & \\text{if } N \\text{  が偶数.}\n",
    "\\end{cases}\n",
    "$$"
   ]
  },
  {
   "cell_type": "code",
   "execution_count": null,
   "metadata": {},
   "outputs": [],
   "source": [
    "boston['PRICE'].median() # or np.median(boston['PRICE'])"
   ]
  },
  {
   "cell_type": "markdown",
   "metadata": {},
   "source": [
    "- データを順番に並べた際の真ん中の値 (データの数が偶数の場合、真ん中に近い二つのデータの平均)\n",
    "- 平均値と違い、外れ値の影響受けにくいが、1個のデータでもって代表値としていることに注意\n",
    "- 実際のデータの形(分布)を見てみることが**超大事**❗️(2回目)"
   ]
  },
  {
   "cell_type": "code",
   "execution_count": null,
   "metadata": {
    "slideshow": {
     "slide_type": "slide"
    }
   },
   "outputs": [],
   "source": [
    "fig, (ax1, ax2) = plt.subplots(1, 2, sharey=False, figsize = (10,5)) # 複数グラフの表示設定\n",
    "sns.distplot(boston.RM, ax=ax1, axlabel='')\n",
    "ax1.set_title('Histogram RM')\n",
    "ax1.axvline(boston.RM.median(), 0, 1, color='green') # 中央値の垂直線を追加\n",
    "sns.distplot(boston.LSTAT, ax=ax2, axlabel='')\n",
    "ax2.set_title('Histogram LSTAT')\n",
    "ax2.axvline(boston.LSTAT.median(), 0, 1, color='green') # 中央値の垂直線を追加\n",
    "plt.tight_layout() # グラフが重ならないようにする\n",
    "plt.show()"
   ]
  },
  {
   "cell_type": "markdown",
   "metadata": {
    "slideshow": {
     "slide_type": "slide"
    }
   },
   "source": [
    "### せっかくなので最頻値も\n",
    "- 数式で表しにくい~めんどくさい~ので、テストの点数が `10, 20, 30, 30, 40, 50` だとすると、最も出現数が多い `30` が最頻値\n",
    "- データが離散値ではなく連続値の場合は、`10~19`, `20~29` のように `10` 刻みにして、各階級に落とし込む\n",
    "- ただし階級幅によって、最頻値が変わることに注意\n",
    "- 実際のデータの形(分布)を見てみることが**超大事**❗️(n回目)"
   ]
  },
  {
   "cell_type": "markdown",
   "metadata": {
    "slideshow": {
     "slide_type": "slide"
    }
   },
   "source": [
    "#### 参考までに・・・スタージェスの公式 *Sturges' formula*\n",
    "- データの個数Nが与えられた時に**目安となる**階級幅kを得る公式\n",
    "$$\n",
    "k = \\log_2 N + 1 \n",
    "$$"
   ]
  },
  {
   "cell_type": "code",
   "execution_count": null,
   "metadata": {},
   "outputs": [],
   "source": [
    "stur = np.ceil(np.log2(boston.shape[0]) + 1)\n",
    "print(stur)"
   ]
  },
  {
   "cell_type": "code",
   "execution_count": null,
   "metadata": {},
   "outputs": [],
   "source": [
    "fig, (ax1, ax2) = plt.subplots(1, 2, sharey=False, figsize = (10,5)) # 複数グラフの表示設定\n",
    "sns.distplot(boston.RM, ax=ax1, axlabel='', bins=20) # binsは階級幅ではなく、階級の個数であることに注意\n",
    "ax1.set_title('Histogram RM (bins=20)')\n",
    "sns.distplot(boston.RM, ax=ax2, axlabel='', bins=5)\n",
    "ax2.set_title('Histogram RM (bins=5)')\n",
    "plt.tight_layout() # グラフが重ならないようにする\n",
    "plt.show()"
   ]
  },
  {
   "cell_type": "markdown",
   "metadata": {
    "slideshow": {
     "slide_type": "slide"
    }
   },
   "source": [
    "### データのばらつきもみよう-分散\n",
    "$$\n",
    "{\\sigma}^{2}=\\frac{1}{N}\\sum_{i=1}^{n}(x_{i} - \\bar{x})^2\n",
    "$$"
   ]
  },
  {
   "cell_type": "code",
   "execution_count": null,
   "metadata": {},
   "outputs": [],
   "source": [
    "boston['PRICE'].var(ddof=0) # or np.var(boston['PRICE']) "
   ]
  },
  {
   "cell_type": "markdown",
   "metadata": {},
   "source": [
    "- データがどれくらいばらついているかを測る指標\n",
    "- 分散に平方根をとると **標準偏差** と呼ばれる指標になります\n",
    "- 上のコードのddofは、degree of freedom(自由度)と呼ばれる少々ややこしい概念ですが、今回は省略します。Pandasではddof=1, Numpyではddof=0がデフォルトです。\n",
    "- ddof=1の場合、$N$ ではなく $N-1$ で割ります。"
   ]
  },
  {
   "cell_type": "code",
   "execution_count": null,
   "metadata": {
    "slideshow": {
     "slide_type": "slide"
    }
   },
   "outputs": [],
   "source": [
    "fig, (ax1, ax2) = plt.subplots(1, 2, sharey=False, figsize = (10,5)) # 複数グラフの表示設定\n",
    "sns.distplot(boston.RM, ax=ax1, axlabel='')\n",
    "ax1.set_title('Histogram RM')\n",
    "sns.distplot(boston.DIS, ax=ax2, axlabel='')\n",
    "ax2.set_title('Histogram DIS')\n",
    "plt.tight_layout() # グラフが重ならないようにする\n",
    "plt.show()"
   ]
  },
  {
   "cell_type": "code",
   "execution_count": null,
   "metadata": {},
   "outputs": [],
   "source": [
    "RM_var = boston['RM'].var(ddof=0)\n",
    "DIS_var = boston['DIS'].var(ddof=0)\n",
    "print('RM_var: {}    DIS_var: {}'.format(RM_var, DIS_var))"
   ]
  },
  {
   "cell_type": "markdown",
   "metadata": {
    "slideshow": {
     "slide_type": "slide"
    }
   },
   "source": [
    "### 予想通りDISの方が分散が大きい！ <- 実は罠です💀\n",
    "- 分散の単位は、データの単位の2乗になるので、単純な比較はできない\n",
    "- 変動係数を使いましょう！\n",
    "- 変動係数は標準偏差(=つまり元のデータと同じ単位)を元のデータの単位で割るので、単位がない無名数になります\n",
    "$$\n",
    "C.V.=\\frac{\\sigma} {\\overline x}\n",
    "$$"
   ]
  },
  {
   "cell_type": "code",
   "execution_count": null,
   "metadata": {},
   "outputs": [],
   "source": [
    "RM_cv = np.sqrt(RM_var) / boston.RM.mean()\n",
    "DIS_cv = np.sqrt(DIS_var) / boston.DIS.mean()\n",
    "print('RM_cv: {}    DIS_cv: {}'.format(RM_cv, DIS_cv))"
   ]
  },
  {
   "cell_type": "markdown",
   "metadata": {
    "slideshow": {
     "slide_type": "slide"
    }
   },
   "source": [
    "#### 参考までに・・・標準化\n",
    "- データの種類によって, 平均と分散が違うため、主に機械学習分野で学習結果の数値安定性を高めるために, 平均を0, 分散を1に変換する手法がよく使われます.\n",
    "- 統計学分野では、後に解説する `推定`, `検定` 分野で使われます.\n",
    "$$\n",
    "z_{i} = \\frac{x_{i} - \\bar{x}} {\\sigma}\n",
    "$$"
   ]
  },
  {
   "cell_type": "markdown",
   "metadata": {
    "slideshow": {
     "slide_type": "slide"
    }
   },
   "source": [
    "#### もうちょっと参考までに・・・偏差値\n",
    "- 偏差値は標準化のバリエーションの一つで、平均を50, 分散を10に変換したものです。\n",
    "$$\n",
    "z'_{i} = 50 + \\frac{10(x_{i} - \\bar{x})} {\\sigma}\n",
    "$$"
   ]
  },
  {
   "cell_type": "markdown",
   "metadata": {
    "slideshow": {
     "slide_type": "slide"
    }
   },
   "source": [
    "### ここまでのまとめ\n",
    "- 代表値を表す指標は平均の他に、中央値、最頻値などがあります.\n",
    "- データのばらつきを示す指標として、分散や標準偏差があります.\n",
    "- 代表値だけでは、データの特性を見落としてしまうことがあるため、可視化することが重要❗️\n",
    "\n",
    "今まで行った計算(の一部)はpandasの`describe`メソッドでも確認することができます。**基本(要約)統計量**とも呼ばれます。"
   ]
  },
  {
   "cell_type": "code",
   "execution_count": null,
   "metadata": {},
   "outputs": [],
   "source": [
    "boston.describe()"
   ]
  },
  {
   "cell_type": "markdown",
   "metadata": {
    "slideshow": {
     "slide_type": "slide"
    }
   },
   "source": [
    "### 2変量の関係をみてみる\n",
    "- 今までは一つのデータについて着目しましたが、実際にはデータの種類が一つしかないということは希です\n",
    "- そこで2つのデータの関係性を説明する **散布図** と **相関係数** について説明します"
   ]
  },
  {
   "cell_type": "markdown",
   "metadata": {
    "slideshow": {
     "slide_type": "slide"
    }
   },
   "source": [
    "### 散布図\n",
    "- 二つのデータを、それぞれ *X* , *y* とし、それをプロットしたグラフ.\n",
    "- 二つのデータの関係が直感的に見て取れます.\n",
    "- 男女などのカテゴリカルな変数で色分けすると, データの特性をさらに深掘りできます.(今回のデータは全て連続値です)"
   ]
  },
  {
   "cell_type": "code",
   "execution_count": null,
   "metadata": {},
   "outputs": [],
   "source": [
    "sns.jointplot(data=boston, x='RM', y='PRICE', size=8) #  kind='hex' オプションでヒートマップ表示をすることも可能\n",
    "plt.show()"
   ]
  },
  {
   "cell_type": "code",
   "execution_count": null,
   "metadata": {
    "slideshow": {
     "slide_type": "slide"
    }
   },
   "outputs": [],
   "source": [
    "sns.jointplot(data=boston, x='LSTAT', y='PRICE', size=8)\n",
    "plt.show()"
   ]
  },
  {
   "cell_type": "code",
   "execution_count": null,
   "metadata": {
    "slideshow": {
     "slide_type": "slide"
    }
   },
   "outputs": [],
   "source": [
    "sns.jointplot(data=boston, x='AGE', y='PRICE', size=8)\n",
    "plt.show()"
   ]
  },
  {
   "cell_type": "markdown",
   "metadata": {
    "slideshow": {
     "slide_type": "slide"
    }
   },
   "source": [
    "### データの関係を数値として表す-相関係数\n",
    "$$\n",
    "\\rho_{xy} \n",
    " = \n",
    " \\frac{ \\displaystyle \n",
    "  \\sum_{i=1}^{n} (x_{i}-\\bar{x})(y_{i}-\\bar{y}) \n",
    " }{ \n",
    "  \\bigg(\\Big( \\displaystyle \\sum_{i=1}^n(x_{i}-\\bar{x})^2 \\Big)\\Big( \\sum_{i=1}^n(y_{i}-\\bar{y})^2 \\Big)\\bigg)^{1/2}\n",
    " }\n",
    " =\n",
    " \\frac{\\sigma_{xy}}{\\sigma_{x}\\sigma_{y}}\n",
    "$$"
   ]
  },
  {
   "cell_type": "markdown",
   "metadata": {},
   "source": [
    "- 相関係数は二つのデータの **直線** を基準とした関係の指標で, -1から1範囲で値を取ります.\n",
    "- データAが増えた時, データBの値も増えるなら、相関係数は正の値を取ります(=正の相関).\n",
    "- データAが増えた時, データBの値が減るなら、相関係数は負の値を取ります(=負の相関).\n",
    "- 二つのデータに関係がなければ、相関係数は0 (=無相関)"
   ]
  },
  {
   "cell_type": "markdown",
   "metadata": {
    "slideshow": {
     "slide_type": "slide"
    }
   },
   "source": [
    "*PRICE* VS *RM*"
   ]
  },
  {
   "cell_type": "code",
   "execution_count": null,
   "metadata": {},
   "outputs": [],
   "source": [
    "np.corrcoef(boston.PRICE, boston.RM)[0][1]"
   ]
  },
  {
   "cell_type": "markdown",
   "metadata": {},
   "source": [
    "*PRICE* VS *LSTAT*"
   ]
  },
  {
   "cell_type": "code",
   "execution_count": null,
   "metadata": {},
   "outputs": [],
   "source": [
    "np.corrcoef(boston.PRICE, boston.LSTAT)[0][1]"
   ]
  },
  {
   "cell_type": "markdown",
   "metadata": {},
   "source": [
    "*PRICE* VS *AGE*"
   ]
  },
  {
   "cell_type": "code",
   "execution_count": null,
   "metadata": {},
   "outputs": [],
   "source": [
    "np.corrcoef(boston.PRICE, boston.AGE)[0][1]"
   ]
  },
  {
   "cell_type": "markdown",
   "metadata": {
    "slideshow": {
     "slide_type": "slide"
    }
   },
   "source": [
    "### 実際にはデータは種類複数あるので, 相関行列として一度に出した方が便利です\n",
    "- よく使われるのピアソンの相関係数ですが, 他にケンドールの順位相関, スピアマンの順位相関係数などがあります.\n",
    "- pandasの`corr` メソッドの引数`method`で'pearson', 'kendall', 'spearman'を指定します."
   ]
  },
  {
   "cell_type": "code",
   "execution_count": null,
   "metadata": {},
   "outputs": [],
   "source": [
    "boston_corr = boston.corr(method='pearson')\n",
    "boston_corr"
   ]
  },
  {
   "cell_type": "markdown",
   "metadata": {
    "slideshow": {
     "slide_type": "slide"
    }
   },
   "source": [
    "### ただ, 見にくいので, ヒートマップで表示しがちです"
   ]
  },
  {
   "cell_type": "code",
   "execution_count": null,
   "metadata": {},
   "outputs": [],
   "source": [
    "fig, ax = plt.subplots(figsize=(12, 9)) \n",
    "sns.heatmap(boston_corr)\n",
    "plt.show()"
   ]
  },
  {
   "cell_type": "markdown",
   "metadata": {
    "slideshow": {
     "slide_type": "slide"
    }
   },
   "source": [
    "### ご使用上の注意\n",
    "- 相関係数はあくまで相関を表すだけで, 因果関係を表す訳ではない！\n",
    "- 世の中には、同じ傾向(もしくは正反対の傾向)をもつテキトーなデータを二つとってきて, 関係がある！相関係数ﾊﾞｰﾝ!みたいな記事がはびこってます.\n",
    "- 統計学には, 因果関係を扱う一大分野, `統計的因果推論` というものがありますが, **沼** です. めっちゃ難しいです.\n",
    "- 相関係数は, 直線的な関係を表すので, その値だけを見て判断すると, データの特徴を見落としてしまいます.\n",
    "- 実際にデータの関係を見てみることが**超大事**❗️(n+1回目)\n",
    "\n",
    "<img src=\"https://upload.wikimedia.org/wikipedia/commons/thumb/d/d4/Correlation_examples2.svg/2880px-Correlation_examples2.svg.png\" alt=\"相関係数\" title=\"相関係数\">"
   ]
  },
  {
   "cell_type": "markdown",
   "metadata": {
    "slideshow": {
     "slide_type": "slide"
    }
   },
   "source": [
    "#### 参考までに・・・擬似相関\n",
    "- (架空の例ですが) ある学校全体で生徒の体重と, 学力の関係を調べたところ, 相関係数が0.8でした.\n",
    "- **体重が大きいと学力も高いから, いっぱい飯を食わせよう!** と結論付けても大丈夫なのでしょうか?\n",
    "- 実際には, 年齢UP -> 学力UP, 年齢UP -> 体重UPと考えるのが自然で, 体重と学力は関係なさそうに見えます.\n",
    "- このように, 別の要因が原因で相関があるように見えてしまうことを, 擬似相関(見せかけの相関)と呼びます.\n",
    "- この場合, ある要因を取り除いた相関, **偏相関係数** を求めるのが適切です.\n",
    "$$\n",
    "\\rho_{XY\\cdot Z } =\n",
    "        \\frac{\\rho_{XY} - \\rho_{XZ}\\rho_{ZY}}\n",
    "             {\\sqrt{1-\\rho_{XZ}^2} \\sqrt{1-\\rho_{ZY}^2}}.\n",
    "$$"
   ]
  },
  {
   "cell_type": "markdown",
   "metadata": {
    "slideshow": {
     "slide_type": "slide"
    }
   },
   "source": [
    "#### もっと参考までに・・・21世紀の相関係数-MIC\n",
    "- 相関係数が世に出てから100年以上経ってますが, 最近では直線以外(つまり非線形)のものも扱えるMICという指標も出ています.\n",
    "- `minepy` をインストールすれば試せます.\n",
    "- ref: https://www.ncbi.nlm.nih.gov/pmc/articles/PMC3325791/\n",
    "\n",
    "①データの特徴を記述する はここまで👍"
   ]
  },
  {
   "cell_type": "markdown",
   "metadata": {
    "slideshow": {
     "slide_type": "slide"
    }
   },
   "source": [
    "統計学とは、 `確率論` を拠所として、\n",
    "- <span style=\"color: gray; \">①データの特徴を記述したり -> 平均、分散</span>\n",
    "- <span style=\"color: black; \">②一部のデータから全体を推測したり -> 区間推定、仮説検定</span>\n",
    "- <span style=\"color: gray; \">③出来事の要因を明らかにしたり -> 回帰分析(AI❗️)、時系列解析</span>\n",
    "\n",
    "する学問"
   ]
  },
  {
   "cell_type": "markdown",
   "metadata": {
    "slideshow": {
     "slide_type": "slide"
    }
   },
   "source": [
    "### ②一部のデータから全体を推測する"
   ]
  },
  {
   "cell_type": "code",
   "execution_count": null,
   "metadata": {},
   "outputs": [],
   "source": []
  }
 ],
 "metadata": {
  "celltoolbar": "Slideshow",
  "kernelspec": {
   "display_name": "Python 3",
   "language": "python",
   "name": "python3"
  },
  "language_info": {
   "codemirror_mode": {
    "name": "ipython",
    "version": 3
   },
   "file_extension": ".py",
   "mimetype": "text/x-python",
   "name": "python",
   "nbconvert_exporter": "python",
   "pygments_lexer": "ipython3",
   "version": "3.7.3"
  }
 },
 "nbformat": 4,
 "nbformat_minor": 4
}
